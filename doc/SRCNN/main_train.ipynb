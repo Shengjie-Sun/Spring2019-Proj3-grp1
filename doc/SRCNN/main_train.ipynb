{
 "cells": [
  {
   "cell_type": "code",
   "execution_count": 2,
   "metadata": {},
   "outputs": [],
   "source": [
    "import os\n",
    "import time\n",
    "import warnings\n",
    "warnings.filterwarnings('ignore')"
   ]
  },
  {
   "cell_type": "code",
   "execution_count": 6,
   "metadata": {},
   "outputs": [],
   "source": [
    "import numpy as np\n",
    "import tensorflow as tf\n",
    "import matplotlib.pyplot as plt"
   ]
  },
  {
   "cell_type": "code",
   "execution_count": 3,
   "metadata": {},
   "outputs": [],
   "source": [
    "from utils_image import BatchFeeder"
   ]
  },
  {
   "cell_type": "markdown",
   "metadata": {},
   "source": [
    "### Set all the Parameters"
   ]
  },
  {
   "cell_type": "markdown",
   "metadata": {},
   "source": [
    "#### Indicate whether the gpu is available"
   ]
  },
  {
   "cell_type": "code",
   "execution_count": 4,
   "metadata": {},
   "outputs": [
    {
     "data": {
      "text/plain": [
       "False"
      ]
     },
     "execution_count": 4,
     "metadata": {},
     "output_type": "execute_result"
    }
   ],
   "source": [
    "tf.test.is_gpu_available(\n",
    "    cuda_only=False,\n",
    "    min_cuda_compute_capability=None\n",
    ")"
   ]
  },
  {
   "cell_type": "code",
   "execution_count": 21,
   "metadata": {},
   "outputs": [],
   "source": [
    "# hyperparameters for learning\n",
    "epoch = 1000000       \n",
    "batch_size = 100\n",
    "learning_rate = 1e-4"
   ]
  },
  {
   "cell_type": "code",
   "execution_count": 6,
   "metadata": {},
   "outputs": [],
   "source": [
    "# hyperparameters for convolutions\n",
    "patch_side = 29  # patch size should be (patch_side, patch_side)\n",
    "c_dim = 3        # dimension of image color"
   ]
  },
  {
   "cell_type": "code",
   "execution_count": 8,
   "metadata": {},
   "outputs": [],
   "source": [
    "# working directory of 'Spring2019-Proj3-grp1'\n",
    "pwd = os.path.dirname(os.path.dirname(os.getcwd()))\n",
    "    \n",
    "# set the working directory of output\n",
    "checkpoint_wd = os.path.join(pwd, \"output\", \"checkpoint\")\n",
    "if not os.path.exists(checkpoint_wd):\n",
    "    os.makedirs(checkpoint_wd)"
   ]
  },
  {
   "cell_type": "markdown",
   "metadata": {},
   "source": [
    "### Step 0 - Prepare the Data"
   ]
  },
  {
   "cell_type": "markdown",
   "metadata": {},
   "source": [
    "#### load and patchofy the image data"
   ]
  },
  {
   "cell_type": "code",
   "execution_count": 8,
   "metadata": {
    "scrolled": true
   },
   "outputs": [
    {
     "name": "stdout",
     "output_type": "stream",
     "text": [
      "Loading the training images...\n",
      "Loading the testing data...\n"
     ]
    },
    {
     "data": {
      "text/plain": [
       "109.33190129265019"
      ]
     },
     "execution_count": 8,
     "metadata": {},
     "output_type": "execute_result"
    }
   ],
   "source": [
    "# loading and bicubic the original image data\n",
    "# it takes about 6 minutes for the first time (On Linux VM) and 1 minutes afterwards\n",
    "tic = time.clock()\n",
    "bf = BatchFeeder()\n",
    "toc = time.clock()\n",
    "toc-tic"
   ]
  },
  {
   "cell_type": "markdown",
   "metadata": {},
   "source": [
    "#### patchify the row ressolution image"
   ]
  },
  {
   "cell_type": "code",
   "execution_count": 54,
   "metadata": {
    "scrolled": true
   },
   "outputs": [
    {
     "name": "stdout",
     "output_type": "stream",
     "text": [
      "Patchify the training images...\n"
     ]
    },
    {
     "data": {
      "text/plain": [
       "795.2718866047308"
      ]
     },
     "execution_count": 54,
     "metadata": {},
     "output_type": "execute_result"
    }
   ],
   "source": [
    "# RUN THIS IF YOU WANT TO RETRAIN THE MODEL \n",
    "# it takes about 10 minutes\n",
    "tic = time.clock()\n",
    "bf.patch_image()\n",
    "toc = time.clock()\n",
    "toc-tic"
   ]
  },
  {
   "cell_type": "markdown",
   "metadata": {},
   "source": [
    "### Step 1 - Creating the Model"
   ]
  },
  {
   "cell_type": "markdown",
   "metadata": {},
   "source": [
    "#### Placeholders"
   ]
  },
  {
   "cell_type": "code",
   "execution_count": 9,
   "metadata": {},
   "outputs": [],
   "source": [
    "# images are training data set\n",
    "lr = tf.placeholder(tf.float32, [None, None, None, c_dim], name='lr')\n",
    "hr = tf.placeholder(tf.float32, [None, None, None, c_dim], name='hr')"
   ]
  },
  {
   "cell_type": "markdown",
   "metadata": {},
   "source": [
    "#### Parameters"
   ]
  },
  {
   "cell_type": "code",
   "execution_count": 10,
   "metadata": {},
   "outputs": [],
   "source": [
    "W1 = tf.Variable(tf.random_normal([9, 9, 3, 64], stddev=1e-3), name='W1')\n",
    "b1 = tf.Variable(tf.zeros([64]), name='b1')\n",
    "W2 = tf.Variable(tf.random_normal([1, 1, 64, 32], stddev=1e-3), name='W2')\n",
    "b2 = tf.Variable(tf.zeros([32]), name='b2')\n",
    "W3 = tf.Variable(tf.random_normal([5, 5, 32, 3], stddev=1e-3), name='W3')\n",
    "b3 = tf.Variable(tf.zeros([1]), name='b3')"
   ]
  },
  {
   "cell_type": "markdown",
   "metadata": {},
   "source": [
    "#### Layers"
   ]
  },
  {
   "cell_type": "code",
   "execution_count": 11,
   "metadata": {},
   "outputs": [],
   "source": [
    "# patch extraction and representation\n",
    "conv1 = tf.nn.relu(tf.nn.conv2d(lr, W1, strides=[1,1,1,1], padding='SAME') + b1)\n",
    "# non-linear mapping\n",
    "conv2 = tf.nn.relu(tf.nn.conv2d(conv1, W2, strides=[1,1,1,1], padding='SAME') + b2)\n",
    "# reconstruction\n",
    "hr_pred = tf.nn.sigmoid(tf.nn.conv2d(conv2, W3, strides=[1,1,1,1], padding='SAME') + b3)"
   ]
  },
  {
   "cell_type": "markdown",
   "metadata": {},
   "source": [
    "#### Loss Functions"
   ]
  },
  {
   "cell_type": "code",
   "execution_count": 12,
   "metadata": {},
   "outputs": [],
   "source": [
    "# the higher psnr is, the better the result\n",
    "# therefore, we define the loss as the negative of psnr\n",
    "loss = - tf.reduce_mean(tf.image.psnr(hr_pred, hr, max_val=1))"
   ]
  },
  {
   "cell_type": "markdown",
   "metadata": {},
   "source": [
    "#### Optimizer"
   ]
  },
  {
   "cell_type": "code",
   "execution_count": 13,
   "metadata": {},
   "outputs": [],
   "source": [
    "optimizer = tf.train.GradientDescentOptimizer(learning_rate)\n",
    "train = optimizer.minimize(loss)"
   ]
  },
  {
   "cell_type": "markdown",
   "metadata": {},
   "source": [
    "#### Initializer"
   ]
  },
  {
   "cell_type": "code",
   "execution_count": 14,
   "metadata": {},
   "outputs": [],
   "source": [
    "init = tf.global_variables_initializer()"
   ]
  },
  {
   "cell_type": "markdown",
   "metadata": {},
   "source": [
    "### Step 2 - Training the Model"
   ]
  },
  {
   "cell_type": "markdown",
   "metadata": {},
   "source": [
    "#### Model Output"
   ]
  },
  {
   "cell_type": "code",
   "execution_count": 15,
   "metadata": {},
   "outputs": [],
   "source": [
    "test_psnr = []\n",
    "train_psnr = []\n",
    "pred_image_hr = np.zeros_like(bf.test_lr)"
   ]
  },
  {
   "cell_type": "code",
   "execution_count": 16,
   "metadata": {},
   "outputs": [],
   "source": [
    "# Add ops to save and restore all the variables.\n",
    "saver = tf.train.Saver()"
   ]
  },
  {
   "cell_type": "markdown",
   "metadata": {},
   "source": [
    "#### Graph Session"
   ]
  },
  {
   "cell_type": "code",
   "execution_count": null,
   "metadata": {},
   "outputs": [
    {
     "name": "stdout",
     "output_type": "stream",
     "text": [
      "INFO:tensorflow:Restoring parameters from C:\\Users\\sheng\\OneDrive\\CU Second Semester\\Applied Data Science\\Spring2019-Proj3-grp1\\output\\checkpoint\\model_trained.ckpt\n"
     ]
    }
   ],
   "source": [
    "tic = time.clock()\n",
    "\n",
    "with tf.Session() as sess:\n",
    "    \n",
    "    sess.run(tf.global_variables_initializer())\n",
    "    \n",
    "    if os.path.exists(os.path.join(checkpoint_wd, \"model.ckpt.meta\")):\n",
    "        saver.restore(sess, os.path.join(checkpoint_wd, \"model.ckpt\"))\n",
    "\n",
    "    for i in range(epoch):\n",
    "        batch = bf.next_batch(batch_size)\n",
    "        sess.run(train, feed_dict={lr: batch[0], hr: batch[1]})\n",
    "        \n",
    "        # PRINT OUT A MESSAGE EVERY 500 STEPS\n",
    "        if i%500 == 0:\n",
    "            \n",
    "            train_p = -sess.run(loss, feed_dict={lr:batch[0], hr:batch[1]})\n",
    "            train_psnr.append(train_p)\n",
    "            test_p = -sess.run(loss, feed_dict={lr:bf.test_lr, hr:bf.test_hr})\n",
    "            test_psnr.append(test_p)\n",
    "            \n",
    "            print('Currently on step {}'.format(i))\n",
    "            print('Training  PSNR is {} '.format(train_p))\n",
    "            print('Testing PSNR is {} '.format(test_p))\n",
    "            print('\\n')\n",
    "    \n",
    "    save_path = saver.save(sess, os.path.join(checkpoint_wd, \"model.ckpt\"))\n",
    "    \n",
    "toc = time.clock()\n",
    "toc-tic"
   ]
  },
  {
   "cell_type": "markdown",
   "metadata": {},
   "source": [
    "#### The full training history"
   ]
  },
  {
   "cell_type": "code",
   "execution_count": 20,
   "metadata": {},
   "outputs": [
    {
     "data": {
      "image/png": "[encoded data removed]",
      "text/plain": [
       "<Figure size 432x288 with 1 Axes>"
      ]
     },
     "metadata": {},
     "output_type": "display_data"
    }
   ],
   "source": [
    "plt.plot(np.load(os.path.join(checkpoint_wd, \"train_psnr_trained.npy\")))\n",
    "plt.plot(np.load(os.path.join(checkpoint_wd, \"test_psnr_trained.npy\")))\n",
    "plt.xticks([])\n",
    "plt.show()"
   ]
  },
  {
   "cell_type": "code",
   "execution_count": null,
   "metadata": {},
   "outputs": [],
   "source": []
  }
 ],
 "metadata": {
  "kernelspec": {
   "display_name": "Python 3",
   "language": "python",
   "name": "python3"
  },
  "language_info": {
   "codemirror_mode": {
    "name": "ipython",
    "version": 3
   },
   "file_extension": ".py",
   "mimetype": "text/x-python",
   "name": "python",
   "nbconvert_exporter": "python",
   "pygments_lexer": "ipython3",
   "version": "3.6.5"
  }
 },
 "nbformat": 4,
 "nbformat_minor": 2
}
