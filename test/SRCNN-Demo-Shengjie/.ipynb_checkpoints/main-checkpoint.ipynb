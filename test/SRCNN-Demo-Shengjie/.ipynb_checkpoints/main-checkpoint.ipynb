{
 "cells": [
  {
   "cell_type": "code",
   "execution_count": 1,
   "metadata": {},
   "outputs": [],
   "source": [
    "from utils import read_data"
   ]
  },
  {
   "cell_type": "code",
   "execution_count": 2,
   "metadata": {},
   "outputs": [],
   "source": [
    "import numpy as np\n",
    "import matplotlib.pyplot as plt\n",
    "import tensorflow as tf"
   ]
  },
  {
   "cell_type": "code",
   "execution_count": 3,
   "metadata": {},
   "outputs": [],
   "source": [
    "import os\n",
    "import pprint"
   ]
  },
  {
   "cell_type": "markdown",
   "metadata": {},
   "source": [
    "### Step 0 - Prepare the Data"
   ]
  },
  {
   "cell_type": "markdown",
   "metadata": {},
   "source": [
    "#### 0.1 - set working directory"
   ]
  },
  {
   "cell_type": "code",
   "execution_count": 4,
   "metadata": {},
   "outputs": [],
   "source": [
    "# get your current working diectory\n",
    "cwd = os.getcwd()"
   ]
  },
  {
   "cell_type": "code",
   "execution_count": 5,
   "metadata": {},
   "outputs": [],
   "source": [
    "# The parameters for system operations\n",
    "checkpoint_dir = \"checkpoint\"  # Name of checkpoint directory\n",
    "sample_dir = \"sample\"          # Name of sample directory"
   ]
  },
  {
   "cell_type": "code",
   "execution_count": 6,
   "metadata": {},
   "outputs": [],
   "source": [
    "# make the 'checkpoint' directory\n",
    "if not os.path.exists(checkpoint_dir):\n",
    "    os.makedirs(checkpoint_dir)\n",
    "# # make the 'sample' directory\n",
    "# if not os.path.exists(sample_dir):\n",
    "#     os.makedirs(sample_dir)"
   ]
  },
  {
   "cell_type": "code",
   "execution_count": 7,
   "metadata": {},
   "outputs": [],
   "source": [
    "# get your diectorry contains testing and training data\n",
    "wd_train = os.path.join(cwd, checkpoint_dir, 'train.h5')\n",
    "wd_test = os.path.join(cwd, checkpoint_dir, 'test.h5')"
   ]
  },
  {
   "cell_type": "markdown",
   "metadata": {},
   "source": [
    "#### 0.2 - helper functin for feeding data"
   ]
  },
  {
   "cell_type": "code",
   "execution_count": 8,
   "metadata": {},
   "outputs": [],
   "source": [
    "class BatchFeeder():\n",
    "    \n",
    "    def __init__(self, wd_train, wd_test):\n",
    "        # indicator of the batches\n",
    "        self.i = 0\n",
    "        # initialize the training data\n",
    "        self.training_lr, self.training_hr = read_data(wd_train)\n",
    "        # initialize the testing data\n",
    "        self.testing_lr, self.testing_hr = read_data(wd_test)\n",
    "        \n",
    "    # this part is for data preprocessing\n",
    "    # as we already use processed data, we write nothing here\n",
    "    def set_up_images(self):\n",
    "        pass\n",
    "        \n",
    "    def next_batch(self, batch_size):\n",
    "        \n",
    "        lr = self.training_lr[self.i:self.i+batch_size]\n",
    "        hr = self.training_hr[self.i:self.i+batch_size]\n",
    "        self.i = (self.i+batch_size) % len(self.training_hr)\n",
    "        \n",
    "        return lr, hr"
   ]
  },
  {
   "cell_type": "markdown",
   "metadata": {},
   "source": [
    "#### 0.3 - get some senses of data we will work with"
   ]
  },
  {
   "cell_type": "code",
   "execution_count": 9,
   "metadata": {},
   "outputs": [],
   "source": [
    "bf = BatchFeeder(wd_train, wd_test)\n",
    "bf.set_up_images()"
   ]
  },
  {
   "cell_type": "code",
   "execution_count": 10,
   "metadata": {},
   "outputs": [
    {
     "data": {
      "text/plain": [
       "(21884, 33, 33, 1)"
      ]
     },
     "execution_count": 10,
     "metadata": {},
     "output_type": "execute_result"
    }
   ],
   "source": [
    "# please do check the diminsion of data\n",
    "# low resolution image has already been augmented by bicubic maybe\n",
    "# more details in utils.py\n",
    "bf.training_lr.shape"
   ]
  },
  {
   "cell_type": "code",
   "execution_count": 11,
   "metadata": {},
   "outputs": [
    {
     "data": {
      "text/plain": [
       "(21884, 21, 21, 1)"
      ]
     },
     "execution_count": 11,
     "metadata": {},
     "output_type": "execute_result"
    }
   ],
   "source": [
    "bf.training_hr.shape"
   ]
  },
  {
   "cell_type": "code",
   "execution_count": 12,
   "metadata": {},
   "outputs": [
    {
     "data": {
      "text/plain": [
       "<matplotlib.image.AxesImage at 0x1c12359eb00>"
      ]
     },
     "execution_count": 12,
     "metadata": {},
     "output_type": "execute_result"
    },
    {
     "data": {
      "image/png": "[encoded data removed]",
      "text/plain": [
       "<Figure size 432x288 with 1 Axes>"
      ]
     },
     "metadata": {
      "needs_background": "light"
     },
     "output_type": "display_data"
    }
   ],
   "source": [
    "plt.imshow(bf.training_lr[0].reshape(33,33), cmap='gist_gray')"
   ]
  },
  {
   "cell_type": "code",
   "execution_count": 13,
   "metadata": {},
   "outputs": [
    {
     "data": {
      "text/plain": [
       "<matplotlib.image.AxesImage at 0x1c12363d278>"
      ]
     },
     "execution_count": 13,
     "metadata": {},
     "output_type": "execute_result"
    },
    {
     "data": {
      "image/png": "[encoded data removed]",
      "text/plain": [
       "<Figure size 432x288 with 1 Axes>"
      ]
     },
     "metadata": {
      "needs_background": "light"
     },
     "output_type": "display_data"
    }
   ],
   "source": [
    "plt.imshow(bf.training_hr[0].reshape(21,21), cmap='gist_gray')"
   ]
  },
  {
   "cell_type": "markdown",
   "metadata": {},
   "source": [
    "### Step 1 - Creating the Model"
   ]
  },
  {
   "cell_type": "code",
   "execution_count": 14,
   "metadata": {},
   "outputs": [],
   "source": [
    "# True for training, False for testing purpose\n",
    "is_train = True\n",
    "# The size of scale factor for preprocessing input image\n",
    "scale = 3"
   ]
  },
  {
   "cell_type": "markdown",
   "metadata": {},
   "source": [
    "#### 1.1 - Initialize the parameters"
   ]
  },
  {
   "cell_type": "code",
   "execution_count": 15,
   "metadata": {},
   "outputs": [],
   "source": [
    "# The hyperparameters for learning\n",
    "epoch = 1000 \n",
    "batch_size = 128\n",
    "learning_rate = 1e-4"
   ]
  },
  {
   "cell_type": "code",
   "execution_count": 16,
   "metadata": {},
   "outputs": [],
   "source": [
    "# The hyperparameters for convolutions\n",
    "image_size = 33  # The size of image to use\n",
    "label_size = 21  # The size of label to produce\n",
    "c_dim = 1        # Dimension of image color\n",
    "stride = 14      # The size of stride to apply input image"
   ]
  },
  {
   "cell_type": "markdown",
   "metadata": {},
   "source": [
    "#### 1.2 - placeholders"
   ]
  },
  {
   "cell_type": "code",
   "execution_count": 17,
   "metadata": {},
   "outputs": [],
   "source": [
    "# images are training data set\n",
    "lr = tf.placeholder(tf.float32, [None, image_size, image_size, c_dim], name='lr')\n",
    "hr = tf.placeholder(tf.float32, [None, label_size, label_size, c_dim], name='hr')"
   ]
  },
  {
   "cell_type": "markdown",
   "metadata": {},
   "source": [
    "#### 1.3 - parameters/filters"
   ]
  },
  {
   "cell_type": "code",
   "execution_count": 18,
   "metadata": {},
   "outputs": [],
   "source": [
    "W1 = tf.Variable(tf.random_normal([9, 9, 1, 64], stddev=1e-3), name='W1')\n",
    "b1 = tf.Variable(tf.zeros([64]), name='b1')\n",
    "W2 = tf.Variable(tf.random_normal([1, 1, 64, 32], stddev=1e-3), name='W2')\n",
    "b2 = tf.Variable(tf.zeros([32]), name='b2')\n",
    "W3 = tf.Variable(tf.random_normal([5, 5, 32, 1], stddev=1e-3), name='W3')\n",
    "b3 = tf.Variable(tf.zeros([1]), name='b3')"
   ]
  },
  {
   "cell_type": "markdown",
   "metadata": {},
   "source": [
    "#### 1.4 - layers"
   ]
  },
  {
   "cell_type": "code",
   "execution_count": 19,
   "metadata": {},
   "outputs": [],
   "source": [
    "# patch extraction and representation\n",
    "conv1 = tf.nn.relu(tf.nn.conv2d(lr, \n",
    "                                W1, strides=[1,1,1,1], padding='VALID') + b1)\n",
    "\n",
    "# non-linear mapping\n",
    "conv2 = tf.nn.relu(tf.nn.conv2d(conv1,\n",
    "                                W2, strides=[1,1,1,1], padding='VALID') + b2)\n",
    "\n",
    "# reconstruction\n",
    "hr_pred = tf.nn.conv2d(conv2, W3, strides=[1,1,1,1], padding='VALID') + b3"
   ]
  },
  {
   "cell_type": "markdown",
   "metadata": {},
   "source": [
    "#### 1.5 - loss functions"
   ]
  },
  {
   "cell_type": "code",
   "execution_count": 20,
   "metadata": {},
   "outputs": [],
   "source": [
    "# here, we use mse as loss function for simplicity\n",
    "loss = tf.reduce_mean(tf.squared_difference(hr_pred, hr))"
   ]
  },
  {
   "cell_type": "markdown",
   "metadata": {},
   "source": [
    "#### 1.6 - Optimizer"
   ]
  },
  {
   "cell_type": "code",
   "execution_count": 21,
   "metadata": {},
   "outputs": [],
   "source": [
    "optimizer = tf.train.GradientDescentOptimizer(learning_rate)\n",
    "train = optimizer.minimize(loss)"
   ]
  },
  {
   "cell_type": "markdown",
   "metadata": {},
   "source": [
    "### Step 2 - Training the Model"
   ]
  },
  {
   "cell_type": "markdown",
   "metadata": {},
   "source": [
    "#### 2.1 - initializer"
   ]
  },
  {
   "cell_type": "code",
   "execution_count": 22,
   "metadata": {},
   "outputs": [],
   "source": [
    "init = tf.global_variables_initializer()"
   ]
  },
  {
   "cell_type": "markdown",
   "metadata": {},
   "source": [
    "#### 2.2 - graph session"
   ]
  },
  {
   "cell_type": "code",
   "execution_count": 23,
   "metadata": {},
   "outputs": [
    {
     "name": "stdout",
     "output_type": "stream",
     "text": [
      "Currently on step 0\n",
      "Testing accuracy is 0.3217816948890686: \n",
      "Training  accuracy is 0.26777470111846924: \n",
      "\n",
      "\n",
      "Currently on step 100\n",
      "Testing accuracy is 0.31194448471069336: \n",
      "Training  accuracy is 0.1993263214826584: \n",
      "\n",
      "\n",
      "Currently on step 200\n",
      "Testing accuracy is 0.3032987117767334: \n",
      "Training  accuracy is 0.35916614532470703: \n",
      "\n",
      "\n",
      "Currently on step 300\n",
      "Testing accuracy is 0.2945461869239807: \n",
      "Training  accuracy is 0.1767321079969406: \n",
      "\n",
      "\n",
      "Currently on step 400\n",
      "Testing accuracy is 0.2863978445529938: \n",
      "Training  accuracy is 0.15123555064201355: \n",
      "\n",
      "\n",
      "Currently on step 500\n",
      "Testing accuracy is 0.2784646451473236: \n",
      "Training  accuracy is 0.17303282022476196: \n",
      "\n",
      "\n",
      "Currently on step 600\n",
      "Testing accuracy is 0.27063003182411194: \n",
      "Training  accuracy is 0.22549082338809967: \n",
      "\n",
      "\n",
      "Currently on step 700\n",
      "Testing accuracy is 0.2635676860809326: \n",
      "Training  accuracy is 0.13571730256080627: \n",
      "\n",
      "\n",
      "Currently on step 800\n",
      "Testing accuracy is 0.2561172544956207: \n",
      "Training  accuracy is 0.21407578885555267: \n",
      "\n",
      "\n",
      "Currently on step 900\n",
      "Testing accuracy is 0.24949784576892853: \n",
      "Training  accuracy is 0.29952484369277954: \n",
      "\n",
      "\n"
     ]
    }
   ],
   "source": [
    "with tf.Session() as sess:\n",
    "    \n",
    "    sess.run(tf.global_variables_initializer())\n",
    "\n",
    "    for i in range(epoch):\n",
    "        batch = bf.next_batch(batch_size)\n",
    "        sess.run(train, feed_dict={lr: batch[0], hr: batch[1]})\n",
    "        \n",
    "        # PRINT OUT A MESSAGE EVERY 100 STEPS\n",
    "        if i%100 == 0:\n",
    "            \n",
    "            print('Currently on step {}'.format(i))\n",
    "            print('Testing accuracy is {}: '.format(sess.run(loss, feed_dict={lr:bf.testing_lr, hr:bf.testing_hr})))\n",
    "            print('Training  accuracy is {}: '.format(sess.run(loss, feed_dict={lr:batch[0], hr:batch[1]})))\n",
    "            print('\\n')"
   ]
  },
  {
   "cell_type": "code",
   "execution_count": null,
   "metadata": {},
   "outputs": [],
   "source": []
  }
 ],
 "metadata": {
  "kernelspec": {
   "display_name": "Python 3",
   "language": "python",
   "name": "python3"
  },
  "language_info": {
   "codemirror_mode": {
    "name": "ipython",
    "version": 3
   },
   "file_extension": ".py",
   "mimetype": "text/x-python",
   "name": "python",
   "nbconvert_exporter": "python",
   "pygments_lexer": "ipython3",
   "version": "3.6.7"
  }
 },
 "nbformat": 4,
 "nbformat_minor": 2
}
